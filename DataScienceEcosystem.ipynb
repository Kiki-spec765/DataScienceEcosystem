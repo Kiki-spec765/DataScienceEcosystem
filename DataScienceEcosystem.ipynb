{
  "metadata": {
    "kernelspec": {
      "name": "python",
      "display_name": "Python (Pyodide)",
      "language": "python"
    },
    "language_info": {
      "codemirror_mode": {
        "name": "python",
        "version": 3
      },
      "file_extension": ".py",
      "mimetype": "text/x-python",
      "name": "python",
      "nbconvert_exporter": "python",
      "pygments_lexer": "ipython3",
      "version": "3.8"
    }
  },
  "nbformat_minor": 5,
  "nbformat": 4,
  "cells": [
    {
      "id": "87cf54f5-8139-4bb3-9b36-565d539612c4",
      "cell_type": "markdown",
      "source": "Exercise 11 - Create a markdown cell to indicate the Author's name\n\nIn this markdown cell markdown cell include the following text Author in H2 style heading. Include your name as regular text below the word Author.",
      "metadata": {}
    },
    {
      "id": "f4302933-f798-4794-ac87-72a9f2fc574b",
      "cell_type": "markdown",
      "source": "## Author\n\nKiki",
      "metadata": {}
    },
    {
      "id": "30e7a83d-a81f-4b95-b10f-ee68724f6b37",
      "cell_type": "markdown",
      "source": "Exercise 9 - Create a code cell to convert minutes to hours\n\nIn this code cell write an expression that converts 200 minutes into hours.\nInsert a comment line before the expression to explain the operation e.g.  This will convert 200 minutes to hours by diving by 60.\nRun the cell to evaluate the expression.",
      "metadata": {}
    },
    {
      "id": "51d77f80-b841-41a4-81d0-2e7c0a8b4248",
      "cell_type": "code",
      "source": "# This will convert 200 minutes to hours by dividing by 60\n200 / 60",
      "metadata": {
        "trusted": true
      },
      "outputs": [
        {
          "execution_count": 3,
          "output_type": "execute_result",
          "data": {
            "text/plain": "3.3333333333333335"
          },
          "metadata": {}
        }
      ],
      "execution_count": 3
    },
    {
      "id": "2dbdd8c2-1224-4f38-b008-9b6b9512985b",
      "cell_type": "markdown",
      "source": "Exercise 8 - Create a code cell to multiply and add numbers\n\nIn this code cell evaluate the expression (3*4)+5.\nInsert a comment line before the expression to explain the operation e.g.  This a simple arithmetic expression to mutiply then add integers.\nThen execute the cell to ensure the expression returns the expected output of 17.\n",
      "metadata": {}
    },
    {
      "id": "9909021f-23a6-4a97-960a-f81e14e9fc9d",
      "cell_type": "code",
      "source": "# This is a simple arithmetic expression to multiply then add integers.\n(3 * 4) + 5",
      "metadata": {
        "trusted": true
      },
      "outputs": [
        {
          "execution_count": 2,
          "output_type": "execute_result",
          "data": {
            "text/plain": "17"
          },
          "metadata": {}
        }
      ],
      "execution_count": 2
    },
    {
      "id": "9409dea4-7380-45ae-9df5-d84848872f5a",
      "cell_type": "markdown",
      "source": "Exercise 7 - Create a markdown cell introducing arithmetic expression examples. Add a line in this cell with H3 style heading with text like:\n\nBelow are a few examples of evaluating arithmetic expressions in Python",
      "metadata": {}
    },
    {
      "id": "d2f34425-b150-4e6e-b494-a5e8badb8c0d",
      "cell_type": "markdown",
      "source": "",
      "metadata": {}
    },
    {
      "id": "a43c3fa4-a06f-43ed-9349-c86da880bb13",
      "cell_type": "markdown",
      "source": "Exercise 6 - Create a markdown cell with a table of Data Science tools\n",
      "metadata": {}
    },
    {
      "id": "57dedd2b-9fe1-4dcf-b021-c233d3b66014",
      "cell_type": "markdown",
      "source": "| Data Science Tools |\n|--------------------|\n| Jupyter Notebook   |\n| RStudio            |\n| VS Code with Python|",
      "metadata": {}
    },
    {
      "id": "475a1163-6410-4dbe-b38a-3057804a4ced",
      "cell_type": "markdown",
      "source": "Exercise 5 - Create a markdown cell to list data science libraries",
      "metadata": {}
    },
    {
      "id": "99954be6-85b5-4c8d-b38d-c3c5ccacd74a",
      "cell_type": "markdown",
      "source": "Some of the commonly used libraries used by Data Scientists include:\n\n1. NumPy\n2. Pandas\n3. Matplotlib\n4. Scikit-learn",
      "metadata": {}
    },
    {
      "id": "ebad4279-155b-44c2-8042-b05bb8525895",
      "cell_type": "markdown",
      "source": "Exercise 4 - Create a markdown cell to list data science languages\n",
      "metadata": {}
    },
    {
      "id": "0542019d-5ff7-4324-b081-f4de2689dbd8",
      "cell_type": "markdown",
      "source": "Some of the popular languages that Data Scientists use are:\n\n1. Python\n2. R\n3. SQL\n4. Julia",
      "metadata": {}
    },
    {
      "id": "4853fa88-7ea0-4d64-84f3-2e53f0caf9fc",
      "cell_type": "markdown",
      "source": "Exercise 3 - Create a markdown cell for an introduction\n\nWrite an introductory sentence about the notebook such as the follows:",
      "metadata": {}
    },
    {
      "id": "06055604-30f5-4793-8827-4bbf90851cbe",
      "cell_type": "markdown",
      "source": "In this notebook, Data Science Tools and Ecosystem are summarized.",
      "metadata": {}
    },
    {
      "id": "9f004989-123f-453b-ba1e-b9ae4d0475f1",
      "cell_type": "markdown",
      "source": "Exercise 10 - Insert a markdown cell to list Objectives\n\nBelow the introduction cell created in Exercise 3, insert a new markdown cell to list the objectives that this notebook covered (i.e. some of the key takeaways from the course). In this new cell start with an introductory line titled: Objectives: in bold font. Then using an unordered list (bullets) indicate 3 to 5 items covered in this notebook, such as List popular languages for Data Science\n\n**Objectives:**\n\n- List popular languages for Data Science\n- List commonly used libraries in Data Science\n- Create a table of Data Science tools\n- Demonstrate arithmetic expressions in Python\n- Convert minutes to hours using Python",
      "metadata": {}
    },
    {
      "id": "4d8e882d-7ad4-4780-935a-cc1f6e693dd3",
      "cell_type": "markdown",
      "source": "Exercise 2: Create a markdown cell with title of the notebook\n\n# Data Science Tools and Ecosystem",
      "metadata": {}
    }
  ]
}